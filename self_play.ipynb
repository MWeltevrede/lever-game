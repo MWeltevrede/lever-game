{
 "cells": [
  {
   "cell_type": "markdown",
   "metadata": {},
   "source": [
    "# Self-play\n"
   ]
  },
  {
   "cell_type": "markdown",
   "metadata": {},
   "source": [
    "For a lot of realistic multi-agent environments, the problem is too complex to solve the optimal policy exactly (within a reasonable amount of time).\\\n",
    "This is due to the explosion of complexity associated with having multiple agents. \\\n",
    "In order to solve exactly, one has to consider not just all possible actions of one agent, but all possible combined actions of all the agents in the environment together.\\\n",
    "\\\n",
    "So, in practice the optimal policy is often approximated. \\\n",
    "A common technique is to learn a single agent policy that is trained by playing with/against user-defined agent models.\\\n",
    "\\\n",
    "**Self-play** is broadly defined as a multi-agent learning paradigm where a single agent is trained by player with/against (a version of) itself.\\\n",
    "This notebook will train a basic self-play agent to learn to play the lever coordination game."
   ]
  },
  {
   "cell_type": "markdown",
   "metadata": {},
   "source": [
    "Let's start with importing some modules"
   ]
  },
  {
   "cell_type": "code",
   "execution_count": 1,
   "metadata": {},
   "outputs": [],
   "source": [
    "import matplotlib.pyplot as plt\n",
    "import numpy as np\n",
    "\n",
    "from env.lever_game import LeverGame\n",
    "from util.logger import Logger\n",
    "from util.render import Renderer\n",
    "from agents.qlearning import QLearning\n",
    "from agents.exploration import LinearDecay"
   ]
  },
  {
   "cell_type": "markdown",
   "metadata": {},
   "source": [
    "defining some hyper-parameters which we will use later"
   ]
  },
  {
   "cell_type": "code",
   "execution_count": 2,
   "metadata": {},
   "outputs": [],
   "source": [
    "total_episodes = 100     # number of episodes we're going to train for\n",
    "population = 30          # number of agents we're going to train simultaneously\n",
    "\n",
    "# e-greedy hyperparameters\n",
    "epsilon_start = 1\n",
    "epsilon_end = 0.01\n",
    "decayed_by = total_episodes / 2"
   ]
  },
  {
   "cell_type": "markdown",
   "metadata": {},
   "source": [
    "and defining a utility function that initializes a population of players to train"
   ]
  },
  {
   "cell_type": "code",
   "execution_count": 3,
   "metadata": {},
   "outputs": [],
   "source": [
    "def init_population(num_actions, population_size):\n",
    "    players = []\n",
    "    for _ in range(population_size):\n",
    "        p = QLearning(1, num_actions)\n",
    "        players.append(p)\n",
    "    return players"
   ]
  },
  {
   "cell_type": "markdown",
   "metadata": {},
   "source": [
    "## Training\n",
    "In the most basic version of self-play the agent plays with a direct clone of itself:"
   ]
  },
  {
   "cell_type": "code",
   "execution_count": 4,
   "metadata": {},
   "outputs": [],
   "source": [
    "def self_play_action(player, state, episode, strategy):\n",
    "    # our player\n",
    "    a1 = player.select_action(state, epsilon=strategy.get_epsilon(episode))\n",
    "    \n",
    "    # the clone\n",
    "    a2 = player.select_action(state, epsilon=strategy.get_epsilon(episode))\n",
    "    \n",
    "    return (a1, a2)"
   ]
  },
  {
   "cell_type": "markdown",
   "metadata": {},
   "source": [
    "Let's train a population of self-play agents and see how well they perform"
   ]
  },
  {
   "cell_type": "code",
   "execution_count": 5,
   "metadata": {},
   "outputs": [
    {
     "data": {
      "image/png": "[encoded data removed]",
      "text/plain": [
       "<Figure size 600x600 with 1 Axes>"
      ]
     },
     "metadata": {
      "needs_background": "light"
     },
     "output_type": "display_data"
    }
   ],
   "source": [
    "env = LeverGame()\n",
    "log = Logger(population, total_episodes)\n",
    "\n",
    "players = init_population(env.num_levers, population)\n",
    "strategy = LinearDecay(epsilon_start, epsilon_end, decayed_by)\n",
    "\n",
    "for episode in range(total_episodes):\n",
    "    for p in range(population):\n",
    "        player = players[p]\n",
    "\n",
    "        state = 0     # arbitrarily defined initial state\n",
    "\n",
    "        action = self_play_action(player, state, episode, strategy)\n",
    "\n",
    "        observation, reward, done, info = env.step(action)\n",
    "\n",
    "        # our environment only has a single state\n",
    "        next_state = state\n",
    "\n",
    "        player.update_q_values(state, action[0], next_state, reward, done)\n",
    "\n",
    "        # log training process\n",
    "        _, r, _, _ = env.step((player.get_optimal_action(state), player.get_optimal_action(state)))\n",
    "        log.update_training_log(p, episode, r, action)  \n",
    "        \n",
    "log.show_results(smoothness=20)"
   ]
  },
  {
   "cell_type": "markdown",
   "metadata": {},
   "source": [
    "The agents seem to be able to converge during training to the maximum reward of 1."
   ]
  },
  {
   "cell_type": "markdown",
   "metadata": {},
   "source": [
    "### Agent Visualisation\n",
    "Let's visualize the Q values of our self-play agent during training to gain a better understanding of what it is learning:"
   ]
  },
  {
   "cell_type": "code",
   "execution_count": 6,
   "metadata": {},
   "outputs": [],
   "source": [
    "render_interval = 0\n",
    "file_name = 'regular_self_play'\n",
    "\n",
    "env = LeverGame()\n",
    "player = QLearning(1, env.num_levers)\n",
    "renderer = Renderer(total_episodes, player)\n",
    "strategy = LinearDecay(epsilon_start, epsilon_end, decayed_by)\n",
    "\n",
    "# Loop\n",
    "for episode in range(total_episodes):     \n",
    "    state = 0     # arbitrarily defined initial state\n",
    "\n",
    "    action = self_play_action(player, state, episode, strategy)\n",
    "\n",
    "    observation, reward, done, info = env.step(action)\n",
    "\n",
    "    # our environment only has a single state\n",
    "    next_state = state\n",
    "\n",
    "    player.update_q_values(state, action[0], next_state, reward, done)\n",
    "\n",
    "    renderer.store_q_values(episode, player)\n",
    "\n",
    "renderer.render_q_values(file_name, render_interval)"
   ]
  },
  {
   "cell_type": "code",
   "execution_count": 7,
   "metadata": {},
   "outputs": [
    {
     "data": {
      "text/markdown": [
       "![](gif/regular_self_play.gif)"
      ],
      "text/plain": [
       "<IPython.core.display.Markdown object>"
      ]
     },
     "execution_count": 7,
     "metadata": {},
     "output_type": "execute_result"
    }
   ],
   "source": [
    "from IPython.display import Markdown as md\n",
    "\n",
    "# Display the gif created above\n",
    "md(f'![](gif/{file_name}.gif)')"
   ]
  },
  {
   "cell_type": "markdown",
   "metadata": {},
   "source": [
    "As we can see from the gif above, our self-play agent settles on a policy where it simply selects the same lever all the time. \\\n",
    "This is a great strategy when playing with a clone of yourself, as it guarantees the reward associated with that lever every time."
   ]
  },
  {
   "cell_type": "markdown",
   "metadata": {},
   "source": [
    "## Testing (Zero-Shot Coordination)\n",
    "The lever coordination game is not very complicated when you play it with yourself. \\\n",
    "A much more interesting scenario to play the game is that of *zero-shot coordination* \n",
    "\n",
    "In zero-shot coordination, agents are placed in a situation in which they have to cooperate with novel partners they have not encountered during training.\\\n",
    "In other words, in zero-shot coordination an agent must play with strangers. \\\n",
    "\\\n",
    "For the lever coordination game, we test our agent's zero-shot coordination performance through cross-play (playing with every other agent in the population except yourself). \\\n",
    "This is a zero-shot coordination setting because all the agents in the population are trained independently. "
   ]
  },
  {
   "cell_type": "code",
   "execution_count": 8,
   "metadata": {},
   "outputs": [],
   "source": [
    "def cross_play_testing(players):\n",
    "    population_size = len(players)\n",
    "    reward_matrix = np.zeros((population_size, population_size))\n",
    "    \n",
    "    state = 0\n",
    "    \n",
    "    for i1 in range(population_size):\n",
    "        for i2 in range(i1):\n",
    "            p1 = players[i1]\n",
    "            p2 = players[i2]\n",
    "            \n",
    "            state = 0\n",
    "            \n",
    "            action = (p1.get_optimal_action(state), p2.get_optimal_action(state))\n",
    "            _, r, _, _ = env.step(action)\n",
    "            \n",
    "            reward_matrix[i1,i2] = r\n",
    "            \n",
    "    # the reward matrix is symmetric\n",
    "    reward_matrix = reward_matrix + np.transpose(reward_matrix)\n",
    "    \n",
    "    return reward_matrix"
   ]
  },
  {
   "cell_type": "markdown",
   "metadata": {},
   "source": [
    "Let's see how the basic self-play agent performs in the cross-play (zero-shot coordination) scenario:"
   ]
  },
  {
   "cell_type": "code",
   "execution_count": 9,
   "metadata": {},
   "outputs": [
    {
     "data": {
      "image/png": "[encoded data removed]",
      "text/plain": [
       "<Figure size 1200x600 with 2 Axes>"
      ]
     },
     "metadata": {
      "needs_background": "light"
     },
     "output_type": "display_data"
    }
   ],
   "source": [
    "env = LeverGame()\n",
    "log = Logger(population, total_episodes)\n",
    "\n",
    "players = init_population(env.num_levers, population)\n",
    "strategy = LinearDecay(epsilon_start, epsilon_end, decayed_by)\n",
    "\n",
    "for episode in range(total_episodes):\n",
    "    \n",
    "    # Training\n",
    "    for p in range(population):\n",
    "        player = players[p]\n",
    "\n",
    "        state = 0     # arbitrarily defined initial state\n",
    "\n",
    "        action = self_play_action(player, state, episode, strategy)\n",
    "\n",
    "        observation, reward, done, info = env.step(action)\n",
    "\n",
    "        # our environment only has a single state\n",
    "        next_state = state\n",
    "\n",
    "        player.update_q_values(state, action[0], next_state, reward, done)\n",
    "\n",
    "        # log training process\n",
    "        _, r, _, _ = env.step((player.get_optimal_action(state), player.get_optimal_action(state)))\n",
    "        log.update_training_log(p, episode, r, action)\n",
    "            \n",
    "    \n",
    "    # Cross-play Testing\n",
    "    rewards = cross_play_testing(players)\n",
    "    \n",
    "    log.update_testing_log(episode, rewards)\n",
    "    \n",
    "        \n",
    "log.show_results(smoothness=20)"
   ]
  },
  {
   "cell_type": "markdown",
   "metadata": {},
   "source": [
    "As we can see, the self-play agent has very poor performance in the zero-shot coordination setting. \\\n",
    "This is because settling on a policy that always selects the same lever is not really optimal, if you cannot agree with your partner *which* lever to select beforehand. "
   ]
  }
 ],
 "metadata": {
  "kernelspec": {
   "display_name": "Python 3",
   "language": "python",
   "name": "python3"
  },
  "language_info": {
   "codemirror_mode": {
    "name": "ipython",
    "version": 3
   },
   "file_extension": ".py",
   "mimetype": "text/x-python",
   "name": "python",
   "nbconvert_exporter": "python",
   "pygments_lexer": "ipython3",
   "version": "3.7.2"
  }
 },
 "nbformat": 4,
 "nbformat_minor": 4
}
