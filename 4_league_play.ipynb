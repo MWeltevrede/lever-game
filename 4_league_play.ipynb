{
 "cells": [
  {
   "cell_type": "markdown",
   "metadata": {},
   "source": [
    "# League Play\n",
    "The basic self-play paradigm where an agent plays with/against (a clone of) itself can have issues solving a more complex environment. <br/>\n",
    "For instance, some environments might have multiple optimal strategies. <br/>\n",
    "By playing with yourself you will likely overfit on a single optimal strategy, resulting in poor peformance playing against/with other optimal strategies. <br/>\n",
    "Moreover, self-play agents can forget how to play against/with sub-optimal strategies, even if those were encountered during training. <br/>\n",
    "\n",
    "A learning paradigm that aims to overcome some of these challenges is called **league-play**. <br/>\n",
    "Rather than training a single agent by playing with itself, league-play trains a league of multiple agents by training with each other. <br/>\n",
    "In this notebook we will implement a basic league-play algorithm to learn to play the lever coordination game. <br/>\n",
    "\n",
    "Let's start with importing some modules"
   ]
  },
  {
   "cell_type": "code",
   "execution_count": 1,
   "metadata": {},
   "outputs": [],
   "source": [
    "import matplotlib.pyplot as plt\n",
    "import numpy as np\n",
    "import random\n",
    "import itertools\n",
    "\n",
    "from env.lever_game import LeverGame\n",
    "from util.logger import Logger\n",
    "from util.render import Renderer\n",
    "from agents.qlearning import QLearning\n",
    "from agents.exploration import LinearDecay"
   ]
  },
  {
   "cell_type": "markdown",
   "metadata": {},
   "source": [
    "defining some hyper-parameters which we will use later"
   ]
  },
  {
   "cell_type": "code",
   "execution_count": 2,
   "metadata": {},
   "outputs": [],
   "source": [
    "league_size = 4\n",
    "total_episodes = 500\n",
    "population = 30\n",
    "\n",
    "# e-greedy hyperparameters\n",
    "epsilon_start = 1\n",
    "epsilon_end = 0.01\n",
    "decayed_by = total_episodes / 2"
   ]
  },
  {
   "cell_type": "markdown",
   "metadata": {},
   "source": [
    "and defining some utility functions for initializing a league and a population of leagues"
   ]
  },
  {
   "cell_type": "code",
   "execution_count": 3,
   "metadata": {},
   "outputs": [],
   "source": [
    "def init_league(league_size, num_actions):\n",
    "    league = []\n",
    "    for _ in range(league_size):\n",
    "        league.append(QLearning(1, num_actions))\n",
    "    return league\n",
    "\n",
    "def init_population(league_size, population_size, num_actions):\n",
    "    leagues = []\n",
    "    for _ in range(population_size):\n",
    "        leagues.append(init_league(league_size, num_actions))\n",
    "    return leagues"
   ]
  },
  {
   "cell_type": "markdown",
   "metadata": {},
   "source": [
    "## Training\n",
    "In this basic version of league-play, we start every training iteration by randomly sampling training pairs from our league"
   ]
  },
  {
   "cell_type": "code",
   "execution_count": 4,
   "metadata": {},
   "outputs": [],
   "source": [
    "def sample_pairs(league):\n",
    "    assert len(league) % 2 == 0, \"League size should be even\"\n",
    "    \n",
    "    shuffle = random.sample(league, len(league))\n",
    "    pairs = []\n",
    "    for i in range(0, len(league), 2):\n",
    "        pairs.append((shuffle[i], shuffle[i+1]))\n",
    "        \n",
    "    return pairs"
   ]
  },
  {
   "cell_type": "markdown",
   "metadata": {},
   "source": [
    "and letting the two players in a training pair play with each other"
   ]
  },
  {
   "cell_type": "code",
   "execution_count": 5,
   "metadata": {},
   "outputs": [],
   "source": [
    "def joint_action(pair, state, episode, strategy):\n",
    "    # player 1\n",
    "    a1 = pair[0].select_action(state, epsilon=strategy.get_epsilon(episode))\n",
    "    \n",
    "    # player 2\n",
    "    a2 = pair[1].select_action(state, epsilon=strategy.get_epsilon(episode))\n",
    "    return (a1,a2)"
   ]
  },
  {
   "cell_type": "markdown",
   "metadata": {},
   "source": [
    "Let's train a population of leagues and see how well they perform. <br/>\n",
    "*Note that during every step we train all the agents in the league*"
   ]
  },
  {
   "cell_type": "code",
   "execution_count": 6,
   "metadata": {},
   "outputs": [
    {
     "data": {
      "image/png": "[encoded data removed]",
      "text/plain": [
       "<Figure size 600x600 with 1 Axes>"
      ]
     },
     "metadata": {
      "needs_background": "light"
     },
     "output_type": "display_data"
    }
   ],
   "source": [
    "env = LeverGame()\n",
    "log = Logger(population, total_episodes)\n",
    "\n",
    "leagues = init_population(league_size, population, env.num_levers)\n",
    "strategy = LinearDecay(epsilon_start, epsilon_end, decayed_by)\n",
    "\n",
    "for episode in range(total_episodes):\n",
    "    for p in range(population):\n",
    "        league = leagues[p]\n",
    "\n",
    "        state = 0     # arbitrarily defined initial state\n",
    "\n",
    "        # agents in the league play with each other in pairs\n",
    "        pairs = sample_pairs(league)\n",
    "        rewards = []\n",
    "        for pair in pairs:\n",
    "            action = joint_action(pair, state, episode, strategy)\n",
    "\n",
    "            observation, reward, done, info = env.step(action)\n",
    "\n",
    "            # our environment only has a single state\n",
    "            next_state = state\n",
    "\n",
    "            # train both agents in the pair\n",
    "            pair[0].update_q_values(state, action[0], next_state, reward, done)\n",
    "            pair[1].update_q_values(state, action[1], next_state, reward, done)\n",
    "\n",
    "            # log training process\n",
    "            _, r, _, _ = env.step((pair[0].get_optimal_action(state), pair[1].get_optimal_action(state)))\n",
    "            rewards.append(r)\n",
    "\n",
    "        # log training performance as the average reward of all the training pairs\n",
    "        log.update_training_log(p, episode, np.array(rewards).mean())\n",
    "            \n",
    "log.show_results(smoothness=20)"
   ]
  },
  {
   "cell_type": "markdown",
   "metadata": {},
   "source": [
    "Just like regular self-play, the agents seem to be able to converge to the maximum reward of 1 during training."
   ]
  },
  {
   "cell_type": "markdown",
   "metadata": {},
   "source": [
    "### Agent Visualisation\n",
    "Let's visualise the Q values of our league-play agents during training to gain a better understanding in how they learn"
   ]
  },
  {
   "cell_type": "code",
   "execution_count": 7,
   "metadata": {},
   "outputs": [],
   "source": [
    "render_interval = int(total_episodes / 100)\n",
    "file_name = 'league_play'\n",
    "\n",
    "env = LeverGame()\n",
    "league = init_league(league_size, env.num_levers)\n",
    "renderer = Renderer(total_episodes, league)\n",
    "strategy = LinearDecay(epsilon_start, epsilon_end, decayed_by)\n",
    "\n",
    "for episode in range(total_episodes):\n",
    "    state = 0     # arbitrarily defined initial state\n",
    "\n",
    "    pairs = sample_pairs(league)\n",
    "\n",
    "    for pair in pairs:\n",
    "        action = joint_action(pair, state, episode, strategy)\n",
    "\n",
    "        observation, reward, done, info = env.step(action)\n",
    "\n",
    "        # our environment only has a single state\n",
    "        next_state = state\n",
    "\n",
    "        pair[0].update_q_values(state, action[0], next_state, reward, done)\n",
    "        pair[1].update_q_values(state, action[1], next_state, reward, done)\n",
    "\n",
    "    renderer.store_q_values(episode, league)           \n",
    "    \n",
    "renderer.render_q_values(file_name, render_interval)"
   ]
  },
  {
   "cell_type": "code",
   "execution_count": 8,
   "metadata": {},
   "outputs": [
    {
     "data": {
      "text/markdown": [
       "![](gif/league_play.gif)"
      ],
      "text/plain": [
       "<IPython.core.display.Markdown object>"
      ]
     },
     "execution_count": 8,
     "metadata": {},
     "output_type": "execute_result"
    }
   ],
   "source": [
    "from IPython.display import Markdown as md\n",
    "\n",
    "# Display the gif created above\n",
    "md(f'![](gif/{file_name}.gif)')"
   ]
  },
  {
   "cell_type": "markdown",
   "metadata": {},
   "source": [
    "Much like the self-play agent, the league-play agents eventually settle on a policy that always selects the same lever. <br/>\n",
    "This leads to optimal performance during training when the agent only plays with other agents in its league. "
   ]
  },
  {
   "cell_type": "markdown",
   "metadata": {},
   "source": [
    "## Testing (Zero-Shot Coordination)\n",
    "Just like the self-play agent, we are going to test our league agents in the zero-shot coordination setting. <br/>\n",
    "In this setting we are evaluating our league-agents by pairing them with other (independently trained) league-play agents. "
   ]
  },
  {
   "cell_type": "code",
   "execution_count": 9,
   "metadata": {},
   "outputs": [],
   "source": [
    "def cross_play_testing(leagues):\n",
    "    population = len(leagues)\n",
    "    reward_matrix = np.zeros((population, population))\n",
    "    \n",
    "    state = 0\n",
    "    \n",
    "    for i1 in range(population):\n",
    "        for i2 in range(i1):\n",
    "            l1 = leagues[i1]\n",
    "            l2 = leagues[i2]\n",
    "            \n",
    "            state = 0\n",
    "            \n",
    "            # get best agents from the leagues\n",
    "            p1 = get_optimal_agent(l1, state)\n",
    "            p2 = get_optimal_agent(l2, state)\n",
    "            \n",
    "            action = (p1.get_optimal_action(state), p2.get_optimal_action(state))\n",
    "            _, r, _, _ = env.step(action)\n",
    "            \n",
    "            reward_matrix[i1,i2] = r\n",
    "            \n",
    "    # the reward matrix is symmetric\n",
    "    reward_matrix = reward_matrix + np.transpose(reward_matrix)\n",
    "    \n",
    "    return reward_matrix\n",
    "\n",
    "def get_optimal_agent(league, state):\n",
    "    max_q_value = 0\n",
    "    optimal_agent = None\n",
    "    \n",
    "    for agent in league:\n",
    "        if agent.Q_values[state].max() > max_q_value:\n",
    "            max_q_value = agent.Q_values[state].max()\n",
    "            optimal_agent = agent\n",
    "    \n",
    "    return agent"
   ]
  },
  {
   "cell_type": "markdown",
   "metadata": {},
   "source": [
    "Let's see how the league-play agents perform in the cross-play (zero-shot coordination) scenario"
   ]
  },
  {
   "cell_type": "code",
   "execution_count": 10,
   "metadata": {},
   "outputs": [
    {
     "data": {
      "image/png": "[encoded data removed]",
      "text/plain": [
       "<Figure size 1200x600 with 2 Axes>"
      ]
     },
     "metadata": {
      "needs_background": "light"
     },
     "output_type": "display_data"
    }
   ],
   "source": [
    "env = LeverGame()\n",
    "log = Logger(population, total_episodes)\n",
    "\n",
    "leagues = init_population(league_size, population, env.num_levers)\n",
    "strategy = LinearDecay(epsilon_start, epsilon_end, decayed_by)\n",
    "\n",
    "for episode in range(total_episodes):\n",
    "    \n",
    "    # Training\n",
    "    for p in range(population):\n",
    "        league = leagues[p]\n",
    "\n",
    "        state = 0     # arbitrarily defined initial state\n",
    "\n",
    "        pairs = sample_pairs(league)\n",
    "        rewards = []\n",
    "\n",
    "        for pair in pairs:\n",
    "            action = joint_action(pair, state, episode, strategy)\n",
    "\n",
    "            observation, reward, done, info = env.step(action)\n",
    "\n",
    "            # our environment only has a single state\n",
    "            next_state = state\n",
    "\n",
    "            pair[0].update_q_values(state, action[0], next_state, reward, done)\n",
    "            pair[1].update_q_values(state, action[1], next_state, reward, done)\n",
    "\n",
    "            # log training process\n",
    "            _, r, _, _ = env.step((pair[0].get_optimal_action(state), pair[1].get_optimal_action(state)))\n",
    "            rewards.append(r)\n",
    "\n",
    "        log.update_training_log(p, episode, np.array(rewards).mean())\n",
    "                \n",
    "    # Testing\n",
    "    rewards = cross_play_testing(leagues)\n",
    "    \n",
    "    log.update_testing_log(episode, rewards)\n",
    "            \n",
    "log.show_results(smoothness=20)"
   ]
  },
  {
   "cell_type": "markdown",
   "metadata": {},
   "source": [
    "Much like the self-play agents, the league-play agents perform poorly in the zero-shot coordination setting. <br/>\n",
    "This is because settling on a policy that always selects the same lever, doesn't work if the other leagues settle on different levers. "
   ]
  }
 ],
 "metadata": {
  "kernelspec": {
   "display_name": "Python 3",
   "language": "python",
   "name": "python3"
  },
  "language_info": {
   "codemirror_mode": {
    "name": "ipython",
    "version": 3
   },
   "file_extension": ".py",
   "mimetype": "text/x-python",
   "name": "python",
   "nbconvert_exporter": "python",
   "pygments_lexer": "ipython3",
   "version": "3.7.2"
  }
 },
 "nbformat": 4,
 "nbformat_minor": 4
}
